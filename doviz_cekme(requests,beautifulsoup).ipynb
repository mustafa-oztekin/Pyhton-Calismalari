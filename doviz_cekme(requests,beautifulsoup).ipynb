{
 "cells": [
  {
   "cell_type": "code",
   "execution_count": 18,
   "id": "97fd34d6",
   "metadata": {},
   "outputs": [
    {
     "name": "stdout",
     "output_type": "stream",
     "text": [
      "<Response [200]>\n",
      "GRAM ALTIN 905,46\n",
      "****************************\n",
      "DOLAR 15,5920\n",
      "****************************\n",
      "EURO 16,2817\n",
      "****************************\n",
      "STERLİN 19,1107\n",
      "****************************\n",
      "BIST 100 2.422,76\n",
      "****************************\n",
      "BITCOIN $29.549,63\n",
      "****************************\n",
      "GÜMÜŞ 10,63\n",
      "****************************\n",
      "FAİZ 26,66\n",
      "****************************\n"
     ]
    }
   ],
   "source": [
    "import requests\n",
    "from bs4 import BeautifulSoup\n",
    "url = \"https://www.doviz.com\"\n",
    "response = requests.get(url)\n",
    "print(response)\n",
    "\n",
    "html_icerigi = response.content\n",
    "soup = BeautifulSoup(html_icerigi,\"html.parser\")\n",
    "\n",
    "name = soup.find_all(\"span\",{\"class\":\"name\"})\n",
    "value = soup.find_all(\"span\",{\"class\":\"value\"})\n",
    "\n",
    "for isim,deger in zip(name,value):\n",
    "    isim = isim.text\n",
    "    deger = deger.text\n",
    "    \n",
    "    isim = isim.strip()\n",
    "    isim = isim.replace(\"\\n\",\"\")\n",
    "    \n",
    "    deger = deger.strip()\n",
    "    deger = deger.replace(\"\\n\",\"\")\n",
    "    \n",
    "    print(isim,deger)\n",
    "    print(\"****************************\")"
   ]
  },
  {
   "cell_type": "code",
   "execution_count": 1,
   "id": "0cae4c89",
   "metadata": {},
   "outputs": [
    {
     "name": "stdout",
     "output_type": "stream",
     "text": [
      "<Response [200]>\n",
      "GRAM ALTIN 972,89\n",
      "****************************\n",
      "DOLAR 18,4852\n",
      "****************************\n",
      "EURO 17,8343\n",
      "****************************\n",
      "STERLİN 19,9369\n",
      "****************************\n",
      "BIST 100 3.288,79\n",
      "****************************\n",
      "BITCOIN $20.172,48\n",
      "****************************\n",
      "GÜMÜŞ 11,13\n",
      "****************************\n",
      "FAİZ 14,24\n",
      "****************************\n"
     ]
    }
   ],
   "source": [
    "import requests\n",
    "from bs4 import BeautifulSoup\n",
    "url = \"https://www.doviz.com\"\n",
    "response = requests.get(url)\n",
    "print(response)\n",
    "\n",
    "html_icerigi = response.content\n",
    "soup = BeautifulSoup(html_icerigi,\"html.parser\")\n",
    "\n",
    "name = soup.find_all(\"span\",{\"class\":\"name\"})\n",
    "value = soup.find_all(\"span\",{\"class\":\"value\"})\n",
    "\n",
    "for isim,deger in zip(name,value):\n",
    "    isim = isim.text\n",
    "    deger = deger.text\n",
    "    \n",
    "    isim = isim.strip()\n",
    "    isim = isim.replace(\"\\n\",\"\")\n",
    "    \n",
    "    deger = deger.strip()\n",
    "    deger = deger.replace(\"\\n\",\"\")\n",
    "    \n",
    "    print(isim,deger)\n",
    "    print(\"****************************\")"
   ]
  },
  {
   "cell_type": "code",
   "execution_count": null,
   "id": "a728a1b9",
   "metadata": {},
   "outputs": [],
   "source": []
  }
 ],
 "metadata": {
  "kernelspec": {
   "display_name": "Python 3 (ipykernel)",
   "language": "python",
   "name": "python3"
  },
  "language_info": {
   "codemirror_mode": {
    "name": "ipython",
    "version": 3
   },
   "file_extension": ".py",
   "mimetype": "text/x-python",
   "name": "python",
   "nbconvert_exporter": "python",
   "pygments_lexer": "ipython3",
   "version": "3.9.7"
  }
 },
 "nbformat": 4,
 "nbformat_minor": 5
}
