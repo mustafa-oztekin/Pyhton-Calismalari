{
 "cells": [
  {
   "cell_type": "code",
   "execution_count": 17,
   "id": "24f14ec0",
   "metadata": {},
   "outputs": [
    {
     "name": "stdout",
     "output_type": "stream",
     "text": [
      "345\n",
      "14\n"
     ]
    }
   ],
   "source": [
    "# Bu listenin içindeki stringlerden içinde sadece rakam bulunanları ekrana yazdırın. \n",
    "# Bunu yaparken try,except bloklarını kullanmayı unutmayın.\n",
    "\n",
    "liste = [\"345\",\"sadas\",\"324a\",\"14\",\"kemal\"]\n",
    "for i in liste:\n",
    "    try:\n",
    "        i = int(i)\n",
    "        print(i)\n",
    "    except:\n",
    "        pass # pass deyimi bir blokun hiçbir şey yapmadığı anlamına geliyor. Python'ın hata vermemesi için kullanabilirsiniz.\n"
   ]
  },
  {
   "cell_type": "code",
   "execution_count": 10,
   "id": "10106d57",
   "metadata": {},
   "outputs": [],
   "source": [
    "\"\"\"Bir sayının çift olup olmadığını sorgulayan bir fonksiyon yazın. \n",
    "Bu fonksiyon, eğer sayı çift ise return ile bu değeri dönsün. \n",
    "Ancak sayı tek sayı ise fonksiyon raise ile ValueError hatası fırlatsın. \n",
    "Daha sonra, içinde çift ve tek sayılar bulunduran bir liste tanımlayın ve \n",
    "liste üzerinde gezinerek ekrana sadece çift sayıları bastırın.\n",
    "\n",
    "\"\"\"\n",
    "\n",
    "def cifttek(a):\n",
    "    if (a % 2 == 0):\n",
    "        return a\n",
    "    else:\n",
    "        raise ValueError(\"sayı tek dir\")\n",
    "        "
   ]
  },
  {
   "cell_type": "code",
   "execution_count": 13,
   "id": "03ab7e95",
   "metadata": {},
   "outputs": [],
   "source": [
    "liste = [0,1,2,3,4,5,6,7,8,9]"
   ]
  },
  {
   "cell_type": "code",
   "execution_count": 14,
   "id": "7d0ff77a",
   "metadata": {},
   "outputs": [
    {
     "data": {
      "text/plain": [
       "[0, 1, 2, 3, 4, 5, 6, 7, 8, 9]"
      ]
     },
     "execution_count": 14,
     "metadata": {},
     "output_type": "execute_result"
    }
   ],
   "source": [
    "liste"
   ]
  },
  {
   "cell_type": "code",
   "execution_count": 16,
   "id": "a0b3663e",
   "metadata": {},
   "outputs": [
    {
     "name": "stdout",
     "output_type": "stream",
     "text": [
      "0\n",
      "2\n",
      "4\n",
      "6\n",
      "8\n"
     ]
    }
   ],
   "source": [
    "for i in liste:\n",
    "    try:\n",
    "        print(cifttek(i))\n",
    "    except ValueError:\n",
    "        pass"
   ]
  },
  {
   "cell_type": "code",
   "execution_count": null,
   "id": "9bdc4e74",
   "metadata": {},
   "outputs": [],
   "source": []
  },
  {
   "cell_type": "code",
   "execution_count": null,
   "id": "55c84b23",
   "metadata": {},
   "outputs": [],
   "source": []
  },
  {
   "cell_type": "code",
   "execution_count": null,
   "id": "6a19f00e",
   "metadata": {},
   "outputs": [],
   "source": []
  },
  {
   "cell_type": "code",
   "execution_count": null,
   "id": "32d016d8",
   "metadata": {},
   "outputs": [],
   "source": []
  },
  {
   "cell_type": "code",
   "execution_count": null,
   "id": "df4a8561",
   "metadata": {},
   "outputs": [],
   "source": []
  },
  {
   "cell_type": "code",
   "execution_count": 1,
   "id": "b83213cd",
   "metadata": {},
   "outputs": [
    {
     "name": "stdout",
     "output_type": "stream",
     "text": [
      "Collecting python-escposNote: you may need to restart the kernel to use updated packages.\n",
      "  Downloading python_escpos-2.2.0-py2.py3-none-any.whl (29 kB)\n",
      "Requirement already satisfied: appdirs in c:\\programdata\\anaconda3\\lib\\site-packages (from python-escpos) (1.4.4)\n",
      "Requirement already satisfied: six in c:\\programdata\\anaconda3\\lib\\site-packages (from python-escpos) (1.16.0)\n",
      "Collecting argparse\n",
      "  Using cached argparse-1.4.0-py2.py3-none-any.whl (23 kB)\n",
      "Requirement already satisfied: pyusb>=1.0.0 in c:\\programdata\\anaconda3\\lib\\site-packages (from python-escpos) (1.2.1)\n",
      "Requirement already satisfied: pyyaml in c:\\programdata\\anaconda3\\lib\\site-packages (from python-escpos) (6.0)\n",
      "Requirement already satisfied: qrcode>=4.0 in c:\\programdata\\anaconda3\\lib\\site-packages (from python-escpos) (7.3.1)\n",
      "Requirement already satisfied: Pillow>=2.0 in c:\\programdata\\anaconda3\\lib\\site-packages (from python-escpos) (8.4.0)\n",
      "Requirement already satisfied: argcomplete in c:\\programdata\\anaconda3\\lib\\site-packages (from python-escpos) (2.0.0)\n",
      "Requirement already satisfied: pyserial in c:\\programdata\\anaconda3\\lib\\site-packages (from python-escpos) (3.5)\n",
      "Requirement already satisfied: colorama in c:\\programdata\\anaconda3\\lib\\site-packages (from qrcode>=4.0->python-escpos) (0.4.4)\n",
      "Installing collected packages: argparse, python-escpos\n",
      "Successfully installed argparse-1.4.0 python-escpos-2.2.0\n",
      "\n"
     ]
    },
    {
     "name": "stderr",
     "output_type": "stream",
     "text": [
      "WARNING: Ignoring invalid distribution -arkupsafe (c:\\programdata\\anaconda3\\lib\\site-packages)\n",
      "WARNING: Ignoring invalid distribution -arkupsafe (c:\\programdata\\anaconda3\\lib\\site-packages)\n",
      "WARNING: Ignoring invalid distribution -arkupsafe (c:\\programdata\\anaconda3\\lib\\site-packages)\n",
      "WARNING: Ignoring invalid distribution -arkupsafe (c:\\programdata\\anaconda3\\lib\\site-packages)\n",
      "WARNING: Ignoring invalid distribution -arkupsafe (c:\\programdata\\anaconda3\\lib\\site-packages)\n",
      "WARNING: Ignoring invalid distribution -arkupsafe (c:\\programdata\\anaconda3\\lib\\site-packages)\n",
      "WARNING: Ignoring invalid distribution -arkupsafe (c:\\programdata\\anaconda3\\lib\\site-packages)\n",
      "WARNING: Ignoring invalid distribution -arkupsafe (c:\\programdata\\anaconda3\\lib\\site-packages)\n"
     ]
    }
   ],
   "source": [
    "pip install python-escpos"
   ]
  },
  {
   "cell_type": "code",
   "execution_count": null,
   "id": "1f62f137",
   "metadata": {},
   "outputs": [],
   "source": []
  }
 ],
 "metadata": {
  "kernelspec": {
   "display_name": "Python 3 (ipykernel)",
   "language": "python",
   "name": "python3"
  },
  "language_info": {
   "codemirror_mode": {
    "name": "ipython",
    "version": 3
   },
   "file_extension": ".py",
   "mimetype": "text/x-python",
   "name": "python",
   "nbconvert_exporter": "python",
   "pygments_lexer": "ipython3",
   "version": "3.9.7"
  }
 },
 "nbformat": 4,
 "nbformat_minor": 5
}
