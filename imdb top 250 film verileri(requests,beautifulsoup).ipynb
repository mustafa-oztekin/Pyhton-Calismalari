{
 "cells": [
  {
   "cell_type": "code",
   "execution_count": 2,
   "id": "65f4733c",
   "metadata": {},
   "outputs": [
    {
     "ename": "SyntaxError",
     "evalue": "invalid syntax (Temp/ipykernel_2596/1095927404.py, line 3)",
     "output_type": "error",
     "traceback": [
      "\u001b[1;36m  File \u001b[1;32m\"C:\\Users\\PC\\AppData\\Local\\Temp/ipykernel_2596/1095927404.py\"\u001b[1;36m, line \u001b[1;32m3\u001b[0m\n\u001b[1;33m    url = \"https://atlas.rvmtr.com/Services//Transaction/Event/ApiDbCreateData?apikeysecret=8bc695c4-8a1b-4e4c-bec2-bee821c3a07d&data=[{\"EventId\":0,\"NodeId\":1,\"EventDate\":\"2022-6-16T10:18:27\",\"EventName\":\"Test Event\",\"EventDescription\":\"API Test Event\",\"TypeId\":2,\"PriorityId\":1,\"ImpactId\":3,\"StatusId\":3,\"Source\":\"...\",\"SourceId\":2,\"ClearStatus\":1,\"ClearDateTime\":\"2022-6-16T10:18:29\",\"SessionId\":22,\"Gift\":15.0,\"Comment1\":\"This record\",\"Comment2\":\"Created by\",\"Comment3\":\"Test Api Application\"}]\"\u001b[0m\n\u001b[1;37m                                                                                                                                         ^\u001b[0m\n\u001b[1;31mSyntaxError\u001b[0m\u001b[1;31m:\u001b[0m invalid syntax\n"
     ]
    }
   ],
   "source": [
    "import requests\n",
    "from bs4 import BeautifulSoup\n",
    "url = \"https://atlas.rvmtr.com/Services//Transaction/Event/ApiDbCreateData?apikeysecret=8bc695c4-8a1b-4e4c-bec2-bee821c3a07d&data=[{\"EventId\":0,\"NodeId\":1,\"EventDate\":\"2022-6-16T10:18:27\",\"EventName\":\"Test Event\",\"EventDescription\":\"API Test Event\",\"TypeId\":2,\"PriorityId\":1,\"ImpactId\":3,\"StatusId\":3,\"Source\":\"...\",\"SourceId\":2,\"ClearStatus\":1,\"ClearDateTime\":\"2022-6-16T10:18:29\",\"SessionId\":22,\"Gift\":15.0,\"Comment1\":\"This record\",\"Comment2\":\"Created by\",\"Comment3\":\"Test Api Application\"}]\"\n",
    "response = requests.get(url)\n",
    "print(response)\n",
    "\n",
    "\n",
    "\"\"\"\n",
    "html_icerigi = response.content\n",
    "soup = BeautifulSoup(html_icerigi,\"html.parser\")\n",
    "\n",
    "a = float(input(\"rating giriniz:\"))\n",
    "\n",
    "basliklar = soup.find_all(\"td\",{\"class\":\"titleColumn\"})\n",
    "ratingler = soup.find_all(\"td\",{\"class\",\"ratingColumn imdbRating\"})\n",
    "\n",
    "for baslik,rating in zip(basliklar,ratingler):\n",
    "    baslik = baslik.text\n",
    "    rating = rating.text\n",
    "    \n",
    "    baslik = baslik.strip()\n",
    "    baslik = baslik.replace(\"\\n\",\"\")\n",
    "    \n",
    "    rating = rating.strip()\n",
    "    rating = rating.replace(\"\\n\",\"\")\n",
    "    \n",
    "    if (float(rating) > a):\n",
    "        print(baslik,rating)\n",
    "\"\"\""
   ]
  },
  {
   "cell_type": "code",
   "execution_count": null,
   "id": "62721584",
   "metadata": {},
   "outputs": [],
   "source": []
  }
 ],
 "metadata": {
  "kernelspec": {
   "display_name": "Python 3 (ipykernel)",
   "language": "python",
   "name": "python3"
  },
  "language_info": {
   "codemirror_mode": {
    "name": "ipython",
    "version": 3
   },
   "file_extension": ".py",
   "mimetype": "text/x-python",
   "name": "python",
   "nbconvert_exporter": "python",
   "pygments_lexer": "ipython3",
   "version": "3.9.7"
  }
 },
 "nbformat": 4,
 "nbformat_minor": 5
}
