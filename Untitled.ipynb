{
 "cells": [
  {
   "cell_type": "code",
   "execution_count": 1,
   "id": "a73528dd",
   "metadata": {},
   "outputs": [],
   "source": [
    "import numpy"
   ]
  },
  {
   "cell_type": "code",
   "execution_count": 9,
   "id": "33ba6eef",
   "metadata": {},
   "outputs": [],
   "source": [
    "text = 'c10p15m20'"
   ]
  },
  {
   "cell_type": "code",
   "execution_count": 21,
   "id": "dc9b1385",
   "metadata": {},
   "outputs": [
    {
     "name": "stdout",
     "output_type": "stream",
     "text": [
      "3\n",
      "6\n"
     ]
    }
   ],
   "source": [
    "print(text.index('p'))\n",
    "print(text.index('m'))"
   ]
  },
  {
   "cell_type": "code",
   "execution_count": 30,
   "id": "28578b6f",
   "metadata": {},
   "outputs": [
    {
     "name": "stdout",
     "output_type": "stream",
     "text": [
      "cam:  10\n"
     ]
    }
   ],
   "source": [
    "print(\"cam: \", text[text.index('c')+1:text.index('p')])"
   ]
  },
  {
   "cell_type": "code",
   "execution_count": 31,
   "id": "5e7d44c3",
   "metadata": {},
   "outputs": [
    {
     "name": "stdout",
     "output_type": "stream",
     "text": [
      "plastic:  15\n"
     ]
    }
   ],
   "source": [
    "print(\"plastic: \", text[text.index('p')+1:text.index('m')])"
   ]
  },
  {
   "cell_type": "code",
   "execution_count": 32,
   "id": "86157c17",
   "metadata": {},
   "outputs": [
    {
     "name": "stdout",
     "output_type": "stream",
     "text": [
      "metal:  20\n"
     ]
    }
   ],
   "source": [
    "print(\"metal: \", text[text.index('m')+1:])"
   ]
  },
  {
   "cell_type": "code",
   "execution_count": null,
   "id": "a46af036",
   "metadata": {},
   "outputs": [],
   "source": []
  }
 ],
 "metadata": {
  "kernelspec": {
   "display_name": "Python 3 (ipykernel)",
   "language": "python",
   "name": "python3"
  },
  "language_info": {
   "codemirror_mode": {
    "name": "ipython",
    "version": 3
   },
   "file_extension": ".py",
   "mimetype": "text/x-python",
   "name": "python",
   "nbconvert_exporter": "python",
   "pygments_lexer": "ipython3",
   "version": "3.9.7"
  }
 },
 "nbformat": 4,
 "nbformat_minor": 5
}
