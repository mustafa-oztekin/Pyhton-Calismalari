{
 "cells": [
  {
   "cell_type": "code",
   "execution_count": 7,
   "id": "c43f59d4",
   "metadata": {},
   "outputs": [],
   "source": [
    "from tkinter import *\n",
    "from PIL import ImageTk, Image\n",
    "\n",
    "root = Tk()\n",
    "root.title(\"Mustafa\")\n",
    "\n",
    "def open():\n",
    "    global my_img\n",
    "    top = Toplevel()\n",
    "    top.title(\"my second window\")\n",
    "    my_img = ImageTk.PhotoImage(Image.open(\"indir.jpg\"))\n",
    "    my_label = Label(top, image = my_img).pack()\n",
    "    btn2 = Button(top, text=\"close window\", command=top.destroy).pack()\n",
    "\n",
    "btn = Button(root, text=\"open second window\", command=open).pack()\n",
    "\n",
    "    \n",
    "root.mainloop()"
   ]
  },
  {
   "cell_type": "code",
   "execution_count": null,
   "id": "4317a364",
   "metadata": {},
   "outputs": [],
   "source": []
  }
 ],
 "metadata": {
  "kernelspec": {
   "display_name": "Python 3 (ipykernel)",
   "language": "python",
   "name": "python3"
  },
  "language_info": {
   "codemirror_mode": {
    "name": "ipython",
    "version": 3
   },
   "file_extension": ".py",
   "mimetype": "text/x-python",
   "name": "python",
   "nbconvert_exporter": "python",
   "pygments_lexer": "ipython3",
   "version": "3.9.7"
  }
 },
 "nbformat": 4,
 "nbformat_minor": 5
}
