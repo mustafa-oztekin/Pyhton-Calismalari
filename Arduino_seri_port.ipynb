{
 "cells": [
  {
   "cell_type": "code",
   "execution_count": 1,
   "id": "55db2783",
   "metadata": {},
   "outputs": [],
   "source": [
    "import serial\n",
    "import psycopg2"
   ]
  },
  {
   "cell_type": "code",
   "execution_count": 2,
   "id": "e15cd6cc",
   "metadata": {},
   "outputs": [],
   "source": [
    "con = psycopg2.connect(\n",
    "                        host = \"localhost\",\n",
    "                        database = \"my_database\",\n",
    "                        user = \"postgres\",\n",
    "                        password = \"1234\")"
   ]
  },
  {
   "cell_type": "code",
   "execution_count": null,
   "id": "26d385bb",
   "metadata": {},
   "outputs": [],
   "source": [
    "arduino = serial.Serial(port='COM10', baudrate=9600, parity=serial.PARITY_NONE, stopbits=serial.STOPBITS_ONE, bytesize=serial.EIGHTBITS, timeout=0)\n",
    "barkod = serial.Serial(port='COM4', baudrate=9600, parity=serial.PARITY_NONE, stopbits=serial.STOPBITS_ONE, bytesize=serial.EIGHTBITS, timeout=0)\n",
    "cur = con.cursor()\n",
    "\n",
    "while True:\n",
    "    if barkod.in_waiting:\n",
    "        barkod_veri = barkod.readline()\n",
    "        barkod_veri = barkod_veri.decode(\"utf\")\n",
    "        cur.execute(\"select * from rvmtr where kod =\" + str(barkod_veri))\n",
    "        row = cur.fetchall()\n",
    "        \n",
    "        veri_isim = row[0][2]\n",
    "        # veri_agirlik = row[0][6]\n",
    "        \n",
    "        d = 'mz80.'\n",
    "        arduino.write(d.encode('utf-8'))\n",
    "        \n",
    "    if arduino.in_waiting:\n",
    "        arduino_veri = arduino.readline()\n",
    "        arduino_veri = arduino_veri.decode('utf')\n",
    "        # arduino_veri = str(arduino_veri)\n",
    "        \n",
    "        \n",
    "        print(arduino_veri)"
   ]
  },
  {
   "cell_type": "code",
   "execution_count": 30,
   "id": "6dd2da45",
   "metadata": {},
   "outputs": [],
   "source": [
    "arduino.close()\n",
    "barkod.close()"
   ]
  },
  {
   "cell_type": "code",
   "execution_count": 31,
   "id": "b3b55354",
   "metadata": {},
   "outputs": [
    {
     "data": {
      "text/plain": [
       "'394.camok!'"
      ]
     },
     "execution_count": 31,
     "metadata": {},
     "output_type": "execute_result"
    }
   ],
   "source": [
    "arduino_veri"
   ]
  },
  {
   "cell_type": "code",
   "execution_count": 42,
   "id": "4d95ca9f",
   "metadata": {},
   "outputs": [
    {
     "name": "stdout",
     "output_type": "stream",
     "text": [
      "394\n",
      "camok\n"
     ]
    }
   ],
   "source": [
    "# m = arduino_veri.index('.')\n",
    "agirlik = int(arduino_veri[:m])\n",
    "# n = arduino_veri.index('!')\n",
    "kam_onay = arduino_veri[m+1:n]\n",
    "print(agirlik)\n",
    "print(kam_onay)"
   ]
  },
  {
   "cell_type": "code",
   "execution_count": 43,
   "id": "e0f3762c",
   "metadata": {},
   "outputs": [
    {
     "data": {
      "text/plain": [
       "int"
      ]
     },
     "execution_count": 43,
     "metadata": {},
     "output_type": "execute_result"
    }
   ],
   "source": [
    "type(agirlik)"
   ]
  },
  {
   "cell_type": "code",
   "execution_count": null,
   "id": "a0ab543b",
   "metadata": {},
   "outputs": [],
   "source": []
  }
 ],
 "metadata": {
  "kernelspec": {
   "display_name": "Python 3 (ipykernel)",
   "language": "python",
   "name": "python3"
  },
  "language_info": {
   "codemirror_mode": {
    "name": "ipython",
    "version": 3
   },
   "file_extension": ".py",
   "mimetype": "text/x-python",
   "name": "python",
   "nbconvert_exporter": "python",
   "pygments_lexer": "ipython3",
   "version": "3.9.7"
  }
 },
 "nbformat": 4,
 "nbformat_minor": 5
}
