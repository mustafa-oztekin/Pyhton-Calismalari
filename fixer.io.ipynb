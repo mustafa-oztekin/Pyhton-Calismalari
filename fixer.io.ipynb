{
 "cells": [
  {
   "cell_type": "code",
   "execution_count": 5,
   "id": "fcf658c9",
   "metadata": {},
   "outputs": [],
   "source": [
    "import requests\n",
    "import sys"
   ]
  },
  {
   "cell_type": "code",
   "execution_count": 7,
   "id": "7501db7d",
   "metadata": {},
   "outputs": [
    {
     "name": "stdout",
     "output_type": "stream",
     "text": [
      "Birinci döviz:USD\n",
      "İkinci döviz:TR\n",
      "Miktar:10\n"
     ]
    },
    {
     "name": "stderr",
     "output_type": "stream",
     "text": [
      "Lütfen para birimlerini doğru girin"
     ]
    }
   ],
   "source": [
    "url = \"https://api.fixer.io/latest?base=\"\n",
    "\n",
    "birinci_doviz = input(\"Birinci döviz:\")\n",
    "ikinci_doviz = input(\"İkinci döviz:\")\n",
    "miktar = float(input(\"Miktar:\"))\n",
    "\n",
    "response = requests.get(url + birinci_doviz)\n",
    "json_verisi = response.json()\n",
    "\n",
    "try:\n",
    "    print(json_verisi[\"rates\"][ikinci_doviz] * miktar)\n",
    "    \n",
    "except KeyError:\n",
    "    sys.stderr.write(\"Lütfen para birimlerini doğru girin\")\n",
    "    sys.stderr.flush()\n"
   ]
  },
  {
   "cell_type": "code",
   "execution_count": null,
   "id": "fbb7ba38",
   "metadata": {},
   "outputs": [],
   "source": []
  }
 ],
 "metadata": {
  "kernelspec": {
   "display_name": "Python 3 (ipykernel)",
   "language": "python",
   "name": "python3"
  },
  "language_info": {
   "codemirror_mode": {
    "name": "ipython",
    "version": 3
   },
   "file_extension": ".py",
   "mimetype": "text/x-python",
   "name": "python",
   "nbconvert_exporter": "python",
   "pygments_lexer": "ipython3",
   "version": "3.9.7"
  }
 },
 "nbformat": 4,
 "nbformat_minor": 5
}
