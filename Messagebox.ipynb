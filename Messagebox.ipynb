{
 "cells": [
  {
   "cell_type": "code",
   "execution_count": 10,
   "id": "0ed842bd",
   "metadata": {},
   "outputs": [],
   "source": [
    "from tkinter import *\n",
    "from PIL import ImageTk, Image\n",
    "from tkinter import messagebox\n",
    "\n",
    "root = Tk()\n",
    "root.title(\"Mustafa\")\n",
    "\n",
    "#showinfo, showwarning, showerror, askquestion, askokcancel, askyesno\n",
    "def popup():\n",
    "    response = messagebox.askokcancel(\"This is my Popup!\",\"Hello World!\")\n",
    "    Label(root, text= response).pack()\n",
    "    #if response == 1:\n",
    "     #   Label(root, text= \"you clicked evet\").pack()\n",
    "    #else:\n",
    "     #   Label(root, text= \"you clicked hayır\").pack()\n",
    "\n",
    "\n",
    "        \n",
    "Button(root, text=\"popup\", command=popup).pack()\n",
    "\n",
    "root.mainloop()"
   ]
  },
  {
   "cell_type": "code",
   "execution_count": null,
   "id": "e94c1e3a",
   "metadata": {},
   "outputs": [],
   "source": []
  }
 ],
 "metadata": {
  "kernelspec": {
   "display_name": "Python 3 (ipykernel)",
   "language": "python",
   "name": "python3"
  },
  "language_info": {
   "codemirror_mode": {
    "name": "ipython",
    "version": 3
   },
   "file_extension": ".py",
   "mimetype": "text/x-python",
   "name": "python",
   "nbconvert_exporter": "python",
   "pygments_lexer": "ipython3",
   "version": "3.9.7"
  }
 },
 "nbformat": 4,
 "nbformat_minor": 5
}
