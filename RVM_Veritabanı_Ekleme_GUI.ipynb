{
 "cells": [
  {
   "cell_type": "code",
   "execution_count": 1,
   "id": "4e32a5ac",
   "metadata": {},
   "outputs": [],
   "source": [
    "import psycopg2\n",
    "import pandas as pd\n",
    "import serial\n",
    "from tkinter import *"
   ]
  },
  {
   "cell_type": "code",
   "execution_count": 2,
   "id": "11cd92fe",
   "metadata": {},
   "outputs": [],
   "source": [
    "con = psycopg2.connect(\n",
    "                        host = \"localhost\",\n",
    "                        database = \"my_database\",\n",
    "                        user = \"postgres\",\n",
    "                        password = \"1234\")"
   ]
  },
  {
   "cell_type": "code",
   "execution_count": 3,
   "id": "d5c2368f",
   "metadata": {},
   "outputs": [
    {
     "ename": "NameError",
     "evalue": "name 'ser' is not defined",
     "output_type": "error",
     "traceback": [
      "\u001b[1;31m---------------------------------------------------------------------------\u001b[0m",
      "\u001b[1;31mNameError\u001b[0m                                 Traceback (most recent call last)",
      "\u001b[1;32m~\\AppData\\Local\\Temp/ipykernel_14184/694727700.py\u001b[0m in \u001b[0;36m<module>\u001b[1;34m\u001b[0m\n\u001b[0;32m    117\u001b[0m \u001b[1;32mwhile\u001b[0m \u001b[1;32mTrue\u001b[0m\u001b[1;33m:\u001b[0m\u001b[1;33m\u001b[0m\u001b[1;33m\u001b[0m\u001b[0m\n\u001b[0;32m    118\u001b[0m     \u001b[0mroot\u001b[0m\u001b[1;33m.\u001b[0m\u001b[0mupdate\u001b[0m\u001b[1;33m(\u001b[0m\u001b[1;33m)\u001b[0m\u001b[1;33m\u001b[0m\u001b[1;33m\u001b[0m\u001b[0m\n\u001b[1;32m--> 119\u001b[1;33m     \u001b[0mgetserialport\u001b[0m\u001b[1;33m(\u001b[0m\u001b[1;33m)\u001b[0m\u001b[1;33m\u001b[0m\u001b[1;33m\u001b[0m\u001b[0m\n\u001b[0m",
      "\u001b[1;32m~\\AppData\\Local\\Temp/ipykernel_14184/694727700.py\u001b[0m in \u001b[0;36mgetserialport\u001b[1;34m()\u001b[0m\n\u001b[0;32m     61\u001b[0m \u001b[1;33m\u001b[0m\u001b[0m\n\u001b[0;32m     62\u001b[0m \u001b[1;32mdef\u001b[0m \u001b[0mgetserialport\u001b[0m\u001b[1;33m(\u001b[0m\u001b[1;33m)\u001b[0m\u001b[1;33m:\u001b[0m\u001b[1;33m\u001b[0m\u001b[1;33m\u001b[0m\u001b[0m\n\u001b[1;32m---> 63\u001b[1;33m     \u001b[1;32mif\u001b[0m \u001b[0mser\u001b[0m\u001b[1;33m.\u001b[0m\u001b[0min_waiting\u001b[0m\u001b[1;33m:\u001b[0m\u001b[1;33m\u001b[0m\u001b[1;33m\u001b[0m\u001b[0m\n\u001b[0m\u001b[0;32m     64\u001b[0m         \u001b[1;32mglobal\u001b[0m \u001b[0mlabel\u001b[0m\u001b[1;33m\u001b[0m\u001b[1;33m\u001b[0m\u001b[0m\n\u001b[0;32m     65\u001b[0m         \u001b[1;32mglobal\u001b[0m \u001b[0mlabelk\u001b[0m\u001b[1;33m\u001b[0m\u001b[1;33m\u001b[0m\u001b[0m\n",
      "\u001b[1;31mNameError\u001b[0m: name 'ser' is not defined"
     ]
    }
   ],
   "source": [
    "#ser = serial.Serial(port='COM4', baudrate=9600, parity=serial.PARITY_NONE, stopbits=serial.STOPBITS_ONE, bytesize=serial.EIGHTBITS, timeout=0)\n",
    "cur = con.cursor()\n",
    "\n",
    "root = Tk()\n",
    "root.title(\"RMVDB KAYIT GUI\")\n",
    "root.geometry(\"800x600\")\n",
    "\n",
    "l1 = Label(root, text=\"kod\", font=(\"Helvetica\",14))\n",
    "l1.grid(row=0, column=0, padx=15, pady=15)\n",
    "label = Label(root, text=\"Barkod Verisi Bekleniyor...\", font=(\"Helvetica\",14))\n",
    "label.grid(row=0, column=1, padx=15, pady=15)\n",
    "\n",
    "l2 = Label(root, text=\"isim\", font=(\"Helvetica\",14))\n",
    "l2.grid(row=1, column=0, padx=15, pady=15)\n",
    "e2 = Entry(root, width=50, borderwidth=3)\n",
    "e2.grid(row=1, column=1, columnspan=4, padx=15, pady=15)\n",
    "\n",
    "l3 = Label(root, text=\"hacim_lt\", font=(\"Helvetica\",14))\n",
    "l3.grid(row=2, column=0, padx=15, pady=15)\n",
    "e3 = Entry(root, width=50, borderwidth=3)\n",
    "e3.grid(row=2, column=1, columnspan=4, padx=15, pady=15)\n",
    "\n",
    "l4 = Label(root, text=\"cinsi\", font=(\"Helvetica\",14))\n",
    "l4.grid(row=3, column=0, padx=15, pady=15)\n",
    "e4 = Entry(root, width=50, borderwidth=3)\n",
    "e4.grid(row=3, column=1, columnspan=4, padx=15, pady=15)\n",
    "\n",
    "button_add = Button(root, text=\"EKLE\", font=(\"Helvetica\",14))\n",
    "button_add.grid(row=4, column=1, padx=50, pady=50)\n",
    "\n",
    "labelk = Label(root, text = \"Veritabanı kontrol...\", font=(\"Helvetica\",14))\n",
    "labelk.grid(row=5, column=1, padx=50, pady=50)\n",
    "\n",
    "labelt = Label(root, text=\"Veritabanı sonucu beklemede...\", font=(\"Helvetica\",14))\n",
    "labelt.grid(row=6, column=1, padx=50, pady=50)\n",
    "\n",
    "def ekle():\n",
    "    global labelt\n",
    "    global a\n",
    "    global b\n",
    "    global c\n",
    "    global d\n",
    "    a = label[\"text\"]\n",
    "    b = e2.get()\n",
    "    c = e3.get()\n",
    "    d = e4.get()\n",
    "    label.config(text=\"Sonraki Barkod Verisi Bekleniyor...\")\n",
    "    e2.delete(0, END)\n",
    "    e3.delete(0, END)\n",
    "    e4.delete(0, END)\n",
    "    labelt.destroy()\n",
    "    \n",
    "    cur.execute(\"insert into rvmdb (kod, isim, hacim_lt, cinsi) values (%s, %s, %s, %s)\",\n",
    "                (int(a), b, c, d))\n",
    "    con.commit()\n",
    "    cur.execute(\"select * from rvmdb where kod =\" + str(a))\n",
    "    rows = cur.fetchall()\n",
    "    if rows[0][1] == b:\n",
    "        labelt = Label(root, text=b+\" veritabanına kaydedilmiştir...\", font=(\"Helvetica\",14))\n",
    "        labelt.grid(row=6, column=1, padx=50, pady=50)\n",
    "    \n",
    "def getserialport():\n",
    "    if ser.in_waiting:\n",
    "        global label\n",
    "        global labelk\n",
    "        global l1\n",
    "        global l2\n",
    "        global l3\n",
    "        global l4\n",
    "        global e2\n",
    "        global e3\n",
    "        global e4\n",
    "        global button_add\n",
    "        \n",
    "        label.destroy()\n",
    "        labelk.destroy()\n",
    "        data = ser.readline()\n",
    "        x = data.decode('utf')\n",
    "        \n",
    "        cur.execute(\"select * from rvmdb where kod =\" + str(x))\n",
    "        rows = cur.fetchall()\n",
    "        \n",
    "        try:\n",
    "            r = rows[0]\n",
    "            labelk = Label(root, text = r, font=(\"Helvetica\",14))\n",
    "            labelk.grid(row=5, column=1, padx=50, pady=50)\n",
    "            label = Label(root, text=\"Barkod Verisi Bekleniyor...\", font=(\"Helvetica\",14))\n",
    "            label.grid(row=0, column=1, padx=15, pady=15)\n",
    "        \n",
    "        except Exception as e:\n",
    "            labelk = Label(root, text = 'ÜRÜN VERİTABANINDA BULUNMUYOR...', font=(\"Helvetica\",14))\n",
    "            labelk.grid(row=5, column=1, padx=50, pady=50)\n",
    "            label = Label(root, text=x, font=(\"Helvetica\",14))\n",
    "            label.grid(row=0, column=1, padx=15, pady=15)\n",
    "        \n",
    "        l1 = Label(root, text=\"kod\", font=(\"Helvetica\",14))\n",
    "        l1.grid(row=0, column=0, padx=15, pady=15)\n",
    "\n",
    "        l2 = Label(root, text=\"isim\", font=(\"Helvetica\",14))\n",
    "        l2.grid(row=1, column=0, padx=15, pady=15)\n",
    "        e2 = Entry(root, width=50, borderwidth=3)\n",
    "        e2.grid(row=1, column=1, columnspan=4, padx=15, pady=15)\n",
    "\n",
    "        l3 = Label(root, text=\"hacim_lt\", font=(\"Helvetica\",14))\n",
    "        l3.grid(row=2, column=0, padx=15, pady=15)\n",
    "        e3 = Entry(root, width=50, borderwidth=3)\n",
    "        e3.grid(row=2, column=1, columnspan=4, padx=15, pady=15)\n",
    "\n",
    "        l4 = Label(root, text=\"cinsi\", font=(\"Helvetica\",14))\n",
    "        l4.grid(row=3, column=0, padx=15, pady=15)\n",
    "        e4 = Entry(root, width=50, borderwidth=3)\n",
    "        e4.grid(row=3, column=1, columnspan=4, padx=15, pady=15)\n",
    "\n",
    "        button_add = Button(root, text=\"EKLE\", font=(\"Helvetica\",14), command=ekle)\n",
    "        button_add.grid(row=4, column=1, padx=50, pady=50)\n",
    "        \n",
    "while True:\n",
    "    root.update()\n",
    "    getserialport()"
   ]
  },
  {
   "cell_type": "code",
   "execution_count": 12,
   "id": "4ceeb348",
   "metadata": {},
   "outputs": [
    {
     "data": {
      "text/plain": [
       "False"
      ]
     },
     "execution_count": 12,
     "metadata": {},
     "output_type": "execute_result"
    }
   ],
   "source": [
    "ser.isOpen()"
   ]
  },
  {
   "cell_type": "code",
   "execution_count": 11,
   "id": "dc291819",
   "metadata": {},
   "outputs": [],
   "source": [
    "ser.close()"
   ]
  },
  {
   "cell_type": "code",
   "execution_count": null,
   "id": "19774e5b",
   "metadata": {},
   "outputs": [],
   "source": []
  }
 ],
 "metadata": {
  "kernelspec": {
   "display_name": "Python 3 (ipykernel)",
   "language": "python",
   "name": "python3"
  },
  "language_info": {
   "codemirror_mode": {
    "name": "ipython",
    "version": 3
   },
   "file_extension": ".py",
   "mimetype": "text/x-python",
   "name": "python",
   "nbconvert_exporter": "python",
   "pygments_lexer": "ipython3",
   "version": "3.9.7"
  }
 },
 "nbformat": 4,
 "nbformat_minor": 5
}
