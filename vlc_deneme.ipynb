{
 "cells": [
  {
   "cell_type": "code",
   "execution_count": 6,
   "id": "e266a22d",
   "metadata": {},
   "outputs": [],
   "source": [
    "from tkinter import *\n",
    "from tkVideoPlayer import TkinterVideo\n",
    "\n",
    "root = Tk()\n",
    "root.title(\"...reklam...\")\n",
    "root.geometry(\"1024x600\")\n",
    "\n",
    "videoplayer = TkinterVideo(root, scaled=True)\n",
    "videoplayer.load(r\"reklam.mp4\")\n",
    "videoplayer.pack(expand=True, fill=\"both\")\n",
    "videoplayer.play()\n",
    "root.mainloop()"
   ]
  },
  {
   "cell_type": "code",
   "execution_count": 7,
   "id": "940a2349",
   "metadata": {},
   "outputs": [],
   "source": [
    "import cv2\n",
    "cap = cv2.VideoCapture(\"reklam.mp4\")\n",
    "while cap.isOpened():\n",
    "    ret, frame = cap.read()\n",
    "    \n",
    "    frame = cv2.resize(frame, (800,600))\n",
    "    \n",
    "    cv2.imshow(\"...reklam...\", frame)\n",
    "    \n",
    "    if cv2.waitKey(15) & 0xFF == ord('q'):\n",
    "        break\n",
    "cap.release()\n",
    "cv2.destroyAllWindows()"
   ]
  },
  {
   "cell_type": "code",
   "execution_count": null,
   "id": "a64c7d9f",
   "metadata": {},
   "outputs": [],
   "source": []
  },
  {
   "cell_type": "code",
   "execution_count": null,
   "id": "b39c323e",
   "metadata": {},
   "outputs": [],
   "source": []
  },
  {
   "cell_type": "code",
   "execution_count": null,
   "id": "98177930",
   "metadata": {},
   "outputs": [],
   "source": []
  }
 ],
 "metadata": {
  "kernelspec": {
   "display_name": "Python 3 (ipykernel)",
   "language": "python",
   "name": "python3"
  },
  "language_info": {
   "codemirror_mode": {
    "name": "ipython",
    "version": 3
   },
   "file_extension": ".py",
   "mimetype": "text/x-python",
   "name": "python",
   "nbconvert_exporter": "python",
   "pygments_lexer": "ipython3",
   "version": "3.9.7"
  }
 },
 "nbformat": 4,
 "nbformat_minor": 5
}
