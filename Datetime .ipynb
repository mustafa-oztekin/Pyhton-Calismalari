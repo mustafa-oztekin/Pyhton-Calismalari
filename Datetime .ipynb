{
 "cells": [
  {
   "cell_type": "code",
   "execution_count": 1,
   "id": "92318adb",
   "metadata": {},
   "outputs": [],
   "source": [
    "from datetime import datetime"
   ]
  },
  {
   "cell_type": "code",
   "execution_count": 2,
   "id": "89ae324b",
   "metadata": {},
   "outputs": [],
   "source": [
    "suan = datetime.now()"
   ]
  },
  {
   "cell_type": "code",
   "execution_count": 3,
   "id": "bee0bc64",
   "metadata": {},
   "outputs": [
    {
     "data": {
      "text/plain": [
       "2022"
      ]
     },
     "execution_count": 3,
     "metadata": {},
     "output_type": "execute_result"
    }
   ],
   "source": [
    "suan.year"
   ]
  },
  {
   "cell_type": "code",
   "execution_count": 4,
   "id": "facad30f",
   "metadata": {},
   "outputs": [
    {
     "data": {
      "text/plain": [
       "5"
      ]
     },
     "execution_count": 4,
     "metadata": {},
     "output_type": "execute_result"
    }
   ],
   "source": [
    "suan.month"
   ]
  },
  {
   "cell_type": "code",
   "execution_count": 5,
   "id": "2b897bcd",
   "metadata": {},
   "outputs": [
    {
     "data": {
      "text/plain": [
       "883064"
      ]
     },
     "execution_count": 5,
     "metadata": {},
     "output_type": "execute_result"
    }
   ],
   "source": [
    "suan.microsecond"
   ]
  },
  {
   "cell_type": "code",
   "execution_count": 7,
   "id": "26e57f78",
   "metadata": {},
   "outputs": [
    {
     "data": {
      "text/plain": [
       "9"
      ]
     },
     "execution_count": 7,
     "metadata": {},
     "output_type": "execute_result"
    }
   ],
   "source": [
    "suan.hour"
   ]
  },
  {
   "cell_type": "code",
   "execution_count": 8,
   "id": "b474ee7f",
   "metadata": {},
   "outputs": [
    {
     "data": {
      "text/plain": [
       "'Fri May 13 09:59:44 2022'"
      ]
     },
     "execution_count": 8,
     "metadata": {},
     "output_type": "execute_result"
    }
   ],
   "source": [
    "datetime.ctime(suan)"
   ]
  },
  {
   "cell_type": "code",
   "execution_count": 9,
   "id": "c6cfb74a",
   "metadata": {},
   "outputs": [
    {
     "data": {
      "text/plain": [
       "'2022'"
      ]
     },
     "execution_count": 9,
     "metadata": {},
     "output_type": "execute_result"
    }
   ],
   "source": [
    "datetime.strftime(suan,\"%Y\")"
   ]
  },
  {
   "cell_type": "code",
   "execution_count": 10,
   "id": "2a7b3752",
   "metadata": {},
   "outputs": [
    {
     "data": {
      "text/plain": [
       "'May'"
      ]
     },
     "execution_count": 10,
     "metadata": {},
     "output_type": "execute_result"
    }
   ],
   "source": [
    "datetime.strftime(suan,\"%B\")"
   ]
  },
  {
   "cell_type": "code",
   "execution_count": 11,
   "id": "1e9af40c",
   "metadata": {},
   "outputs": [
    {
     "data": {
      "text/plain": [
       "'Friday'"
      ]
     },
     "execution_count": 11,
     "metadata": {},
     "output_type": "execute_result"
    }
   ],
   "source": [
    "datetime.strftime(suan,\"%A\")"
   ]
  },
  {
   "cell_type": "code",
   "execution_count": 12,
   "id": "9ab50b75",
   "metadata": {},
   "outputs": [
    {
     "data": {
      "text/plain": [
       "'05/13/22'"
      ]
     },
     "execution_count": 12,
     "metadata": {},
     "output_type": "execute_result"
    }
   ],
   "source": [
    "datetime.strftime(suan,\"%D\")"
   ]
  },
  {
   "cell_type": "code",
   "execution_count": 13,
   "id": "5fbc2216",
   "metadata": {},
   "outputs": [],
   "source": [
    "import locale"
   ]
  },
  {
   "cell_type": "code",
   "execution_count": 16,
   "id": "388c8019",
   "metadata": {},
   "outputs": [
    {
     "data": {
      "text/plain": [
       "'Turkish_Turkey.1254'"
      ]
     },
     "execution_count": 16,
     "metadata": {},
     "output_type": "execute_result"
    }
   ],
   "source": [
    "locale.setlocale(locale.LC_ALL,\"\") # Türkiye için konum ayarladık"
   ]
  },
  {
   "cell_type": "code",
   "execution_count": 17,
   "id": "9979fed5",
   "metadata": {},
   "outputs": [
    {
     "data": {
      "text/plain": [
       "'2022 Mayıs Cuma'"
      ]
     },
     "execution_count": 17,
     "metadata": {},
     "output_type": "execute_result"
    }
   ],
   "source": [
    "datetime.strftime(suan,\"%Y %B %A\")"
   ]
  },
  {
   "cell_type": "code",
   "execution_count": 18,
   "id": "9e0e0a64",
   "metadata": {},
   "outputs": [],
   "source": [
    "saniye = datetime.timestamp(suan)"
   ]
  },
  {
   "cell_type": "code",
   "execution_count": 19,
   "id": "13d1e82d",
   "metadata": {},
   "outputs": [
    {
     "data": {
      "text/plain": [
       "1652425184.883064"
      ]
     },
     "execution_count": 19,
     "metadata": {},
     "output_type": "execute_result"
    }
   ],
   "source": [
    "saniye"
   ]
  },
  {
   "cell_type": "code",
   "execution_count": 20,
   "id": "2a6b58d5",
   "metadata": {},
   "outputs": [],
   "source": [
    "suan2 = datetime.fromtimestamp(saniye)"
   ]
  },
  {
   "cell_type": "code",
   "execution_count": 21,
   "id": "96390563",
   "metadata": {},
   "outputs": [
    {
     "data": {
      "text/plain": [
       "datetime.datetime(2022, 5, 13, 9, 59, 44, 883064)"
      ]
     },
     "execution_count": 21,
     "metadata": {},
     "output_type": "execute_result"
    }
   ],
   "source": [
    "suan2"
   ]
  },
  {
   "cell_type": "code",
   "execution_count": 24,
   "id": "d92f9c0c",
   "metadata": {},
   "outputs": [],
   "source": [
    "suan = datetime.fromtimestamp(0) # Epoch time "
   ]
  },
  {
   "cell_type": "code",
   "execution_count": 25,
   "id": "a3f898e9",
   "metadata": {},
   "outputs": [
    {
     "data": {
      "text/plain": [
       "datetime.datetime(1970, 1, 1, 3, 0)"
      ]
     },
     "execution_count": 25,
     "metadata": {},
     "output_type": "execute_result"
    }
   ],
   "source": [
    "suan"
   ]
  },
  {
   "cell_type": "code",
   "execution_count": 26,
   "id": "27d465a3",
   "metadata": {},
   "outputs": [],
   "source": [
    "tarih = datetime(2023,5,1)"
   ]
  },
  {
   "cell_type": "code",
   "execution_count": 27,
   "id": "48bc8bac",
   "metadata": {},
   "outputs": [],
   "source": [
    "suan =datetime.now()"
   ]
  },
  {
   "cell_type": "code",
   "execution_count": 33,
   "id": "3d85ca16",
   "metadata": {},
   "outputs": [
    {
     "data": {
      "text/plain": [
       "datetime.timedelta(days=352, seconds=48889, microseconds=96801)"
      ]
     },
     "execution_count": 33,
     "metadata": {},
     "output_type": "execute_result"
    }
   ],
   "source": [
    "tarih - suan"
   ]
  },
  {
   "cell_type": "code",
   "execution_count": null,
   "id": "a305305d",
   "metadata": {},
   "outputs": [],
   "source": []
  }
 ],
 "metadata": {
  "kernelspec": {
   "display_name": "Python 3 (ipykernel)",
   "language": "python",
   "name": "python3"
  },
  "language_info": {
   "codemirror_mode": {
    "name": "ipython",
    "version": 3
   },
   "file_extension": ".py",
   "mimetype": "text/x-python",
   "name": "python",
   "nbconvert_exporter": "python",
   "pygments_lexer": "ipython3",
   "version": "3.9.7"
  }
 },
 "nbformat": 4,
 "nbformat_minor": 5
}
