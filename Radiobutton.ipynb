{
 "cells": [
  {
   "cell_type": "code",
   "execution_count": 47,
   "id": "fd69e530",
   "metadata": {},
   "outputs": [],
   "source": [
    "from tkinter import *\n",
    "from PIL import ImageTk, Image\n",
    "\n",
    "root = Tk()\n",
    "root.title(\"Mustafa\")\n",
    "\n",
    "frame = LabelFrame(root, text=\"This is my frame...\", padx=50, pady=50)\n",
    "frame.pack(padx=10, pady=10)\n",
    "\n",
    "b = Button(frame, text=\"Dont click here...\")\n",
    "b2 = Button(frame, text=\"... or here...\")\n",
    "b.grid(row=0, column=0)\n",
    "b2.grid(row=1, column=0)\n",
    "\n",
    "#r = IntVar()\n",
    "#r.set(\"2\")\n",
    "\n",
    "modes = [(\"ahmet\",\"ahmet\"), (\"mustafa\",\"mustafa\"), (\"zeynep\",\"zeynep\"), (\"selçuk\",\"selçuk\")]\n",
    "\n",
    "piz = StringVar()\n",
    "piz.set(\"ahmet\")\n",
    "\n",
    "for text, mode in modes:\n",
    "    Radiobutton(root, text=text, variable=piz, value=mode).pack(anchor=W)\n",
    "\n",
    "\n",
    "def clicked(value):\n",
    "    l1 = Label(root, text=value)\n",
    "    l1.pack()\n",
    "\n",
    "\n",
    "#Radiobutton(root, text=\"Option 1\", variable=r, value=1, command=lambda: clicked(r.get())).pack()\n",
    "#Radiobutton(root, text=\"Option 2\", variable=r, value=2, command=lambda: clicked(r.get())).pack()\n",
    "#Radiobutton(root, text=\"Option 3\", variable=r, value=3, command=lambda: clicked(r.get())).pack()\n",
    "#Radiobutton(root, text=\"Option 4\", variable=r, value=4, command=lambda: clicked(r.get())).pack()\n",
    "\n",
    "#l1 = Label(root, text=piz.get())\n",
    "#l1.pack()\n",
    "\n",
    "button = Button(root, text=\"Click me\", command=lambda: clicked(piz.get()))\n",
    "button.pack()\n",
    "\n",
    "root.mainloop()"
   ]
  },
  {
   "cell_type": "code",
   "execution_count": null,
   "id": "4f4d8503",
   "metadata": {},
   "outputs": [],
   "source": []
  },
  {
   "cell_type": "code",
   "execution_count": null,
   "id": "e346df3d",
   "metadata": {},
   "outputs": [],
   "source": []
  }
 ],
 "metadata": {
  "kernelspec": {
   "display_name": "Python 3 (ipykernel)",
   "language": "python",
   "name": "python3"
  },
  "language_info": {
   "codemirror_mode": {
    "name": "ipython",
    "version": 3
   },
   "file_extension": ".py",
   "mimetype": "text/x-python",
   "name": "python",
   "nbconvert_exporter": "python",
   "pygments_lexer": "ipython3",
   "version": "3.9.7"
  }
 },
 "nbformat": 4,
 "nbformat_minor": 5
}
